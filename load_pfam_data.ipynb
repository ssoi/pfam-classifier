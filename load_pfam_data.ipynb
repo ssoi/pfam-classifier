{
 "cells": [
  {
   "cell_type": "code",
   "execution_count": 48,
   "metadata": {
    "collapsed": true
   },
   "outputs": [],
   "source": [
    "import os\n",
    "\n",
    "import numpy as np\n",
    "import pandas as pd\n",
    "import torch\n",
    "import torchtext\n",
    "\n",
    "from torch.utils.data import Dataset\n",
    "from torch.nn.utils.rnn import pack_padded_sequence"
   ]
  },
  {
   "cell_type": "code",
   "execution_count": 2,
   "outputs": [],
   "source": [
    "TRAINDIR = os.path.join(os.getcwd(), \"data\", \"train\")"
   ],
   "metadata": {
    "collapsed": false,
    "pycharm": {
     "name": "#%%\n"
    }
   }
  },
  {
   "cell_type": "code",
   "execution_count": 4,
   "outputs": [
    {
     "data": {
      "text/plain": "      family_id         sequence_name family_accession  \\\n0   GMC_oxred_C  A4WZS5_RHOS5/416-539       PF05199.13   \n1       DUF2887    K9QI92_9NOSO/3-203        PF11103.8   \n2       zf-IS66    Q92LC9_RHIME/32-75        PF13005.7   \n3  Asp_decarbox    X2GQZ4_9BACI/1-115       PF02261.16   \n4       Filamin  A7SQM3_NEMVE/342-439       PF00630.19   \n\n                                    aligned_sequence  \\\n0  PHPE.SRIRLST.RRDAHGMP.....IP.RIESRLGP............   \n1  RDSIYYQIFKRFPALIFEL..VD.NRPPQAQNYRFESVEVKETAFR...   \n2  .TCCPDCGG.E..LRLVGED.AS....EILDMI.AAQMKVIEVARL...   \n3  MLRMMMNSKIHRATVTEADLNYVGSITIDEDILDAVGMLPNEKVHI...   \n4  TACPKQ.CTA....RGLG.............LK.AAPVT.QPT..R...   \n\n                                            sequence  \n0  PHPESRIRLSTRRDAHGMPIPRIESRLGPDAFARLRFMARTCRAIL...  \n1  RDSIYYQIFKRFPALIFELVDNRPPQAQNYRFESVEVKETAFRIDG...  \n2       TCCPDCGGELRLVGEDASEILDMIAAQMKVIEVARLKKSCRCCE  \n3  MLRMMMNSKIHRATVTEADLNYVGSITIDEDILDAVGMLPNEKVHI...  \n4  TACPKQCTARGLGLKAAPVTQPTRFVVILNDCHGQPLGRSEGELEV...  ",
      "text/html": "<div>\n<style scoped>\n    .dataframe tbody tr th:only-of-type {\n        vertical-align: middle;\n    }\n\n    .dataframe tbody tr th {\n        vertical-align: top;\n    }\n\n    .dataframe thead th {\n        text-align: right;\n    }\n</style>\n<table border=\"1\" class=\"dataframe\">\n  <thead>\n    <tr style=\"text-align: right;\">\n      <th></th>\n      <th>family_id</th>\n      <th>sequence_name</th>\n      <th>family_accession</th>\n      <th>aligned_sequence</th>\n      <th>sequence</th>\n    </tr>\n  </thead>\n  <tbody>\n    <tr>\n      <th>0</th>\n      <td>GMC_oxred_C</td>\n      <td>A4WZS5_RHOS5/416-539</td>\n      <td>PF05199.13</td>\n      <td>PHPE.SRIRLST.RRDAHGMP.....IP.RIESRLGP............</td>\n      <td>PHPESRIRLSTRRDAHGMPIPRIESRLGPDAFARLRFMARTCRAIL...</td>\n    </tr>\n    <tr>\n      <th>1</th>\n      <td>DUF2887</td>\n      <td>K9QI92_9NOSO/3-203</td>\n      <td>PF11103.8</td>\n      <td>RDSIYYQIFKRFPALIFEL..VD.NRPPQAQNYRFESVEVKETAFR...</td>\n      <td>RDSIYYQIFKRFPALIFELVDNRPPQAQNYRFESVEVKETAFRIDG...</td>\n    </tr>\n    <tr>\n      <th>2</th>\n      <td>zf-IS66</td>\n      <td>Q92LC9_RHIME/32-75</td>\n      <td>PF13005.7</td>\n      <td>.TCCPDCGG.E..LRLVGED.AS....EILDMI.AAQMKVIEVARL...</td>\n      <td>TCCPDCGGELRLVGEDASEILDMIAAQMKVIEVARLKKSCRCCE</td>\n    </tr>\n    <tr>\n      <th>3</th>\n      <td>Asp_decarbox</td>\n      <td>X2GQZ4_9BACI/1-115</td>\n      <td>PF02261.16</td>\n      <td>MLRMMMNSKIHRATVTEADLNYVGSITIDEDILDAVGMLPNEKVHI...</td>\n      <td>MLRMMMNSKIHRATVTEADLNYVGSITIDEDILDAVGMLPNEKVHI...</td>\n    </tr>\n    <tr>\n      <th>4</th>\n      <td>Filamin</td>\n      <td>A7SQM3_NEMVE/342-439</td>\n      <td>PF00630.19</td>\n      <td>TACPKQ.CTA....RGLG.............LK.AAPVT.QPT..R...</td>\n      <td>TACPKQCTARGLGLKAAPVTQPTRFVVILNDCHGQPLGRSEGELEV...</td>\n    </tr>\n  </tbody>\n</table>\n</div>"
     },
     "execution_count": 4,
     "metadata": {},
     "output_type": "execute_result"
    }
   ],
   "source": [
    "pfam_train_df = pd.read_csv(os.path.join(TRAINDIR, \"data-00000-of-00080\"))\n",
    "pfam_train_df.head()"
   ],
   "metadata": {
    "collapsed": false,
    "pycharm": {
     "name": "#%%\n"
    }
   }
  },
  {
   "cell_type": "code",
   "execution_count": 7,
   "outputs": [],
   "source": [
    "ALPHABET = \"ARNDCQEGHILKMFPSTWYV\"\n",
    "AMINOACIDS = {aa: idx for idx, aa in enumerate(ALPHABET)}"
   ],
   "metadata": {
    "collapsed": false,
    "pycharm": {
     "name": "#%%\n"
    }
   }
  },
  {
   "cell_type": "code",
   "execution_count": 10,
   "outputs": [],
   "source": [
    "def encode_sequence(sequence, aminoacid_lookup, N=70):\n",
    "    encoded_sequence = np.zeros(len(sequence), dtype=int) - 1\n",
    "    sequence_to_index = np.array([aminoacid_lookup.get(aa, 21) for aa in sequence])\n",
    "    sequence_length = min(N, len(sequence_to_index))\n",
    "    encoded_sequence[:sequence_length] = sequence_to_index[:sequence_length]\n",
    "\n",
    "    return encoded_sequence, sequence_length"
   ],
   "metadata": {
    "collapsed": false,
    "pycharm": {
     "name": "#%%\n"
    }
   }
  },
  {
   "cell_type": "code",
   "execution_count": 21,
   "outputs": [],
   "source": [
    "pfam_train_df[\"encoded_sequence\"] = pfam_train_df[\"sequence\"].apply(lambda s: encode_sequence(s, AMINOACIDS, 600)[0])\n",
    "pfam_train_df[\"sequence_length\"] = pfam_train_df[\"sequence\"].apply(len)"
   ],
   "metadata": {
    "collapsed": false,
    "pycharm": {
     "name": "#%%\n"
    }
   }
  },
  {
   "cell_type": "code",
   "execution_count": 45,
   "outputs": [],
   "source": [
    "class PfamDataset(Dataset):\n",
    "    def __init__(self, sequences, family_id):\n",
    "        self.sequences = sequences\n",
    "        self.family_id = family_id\n",
    "\n",
    "    def __len__(self):\n",
    "        return len(self.family_id)\n",
    "\n",
    "    def __getitem__(self, idx):\n",
    "        return torch.from_numpy(self.sequences[idx].astype(np.int32)), self.family_id[idx], len(self.sequences[idx])"
   ],
   "metadata": {
    "collapsed": false,
    "pycharm": {
     "name": "#%%\n"
    }
   }
  },
  {
   "cell_type": "code",
   "execution_count": 47,
   "outputs": [],
   "source": [
    "train_df = PfamDataset(pfam_train_df[\"sequence\"], pfam_train_df[\"family_id\"])"
   ],
   "metadata": {
    "collapsed": false,
    "pycharm": {
     "name": "#%%\n"
    }
   }
  },
  {
   "cell_type": "code",
   "execution_count": null,
   "outputs": [],
   "source": [
    "class LSTM(torch.nn.Module) :\n",
    "    def __init__(self, embedding_dim=8, hidden_dim=5, dropout_ratio=0.3) :\n",
    "        super().__init__()\n",
    "        self.hidden_dim = hidden_dim\n",
    "        self.dropout = nn.Dropout(dropout_ratio)\n",
    "        self.embeddings = nn.Embedding(21, embedding_dim, padding_idx=21)\n",
    "        self.lstm = nn.LSTM(embedding_dim, hidden_dim, batch_first=True)\n",
    "        self.linear = nn.Linear(hidden_dim, 5)\n",
    "\n",
    "    def forward(self, x, s):\n",
    "        x = self.embeddings(x)\n",
    "        x = self.dropout(x)\n",
    "        x_pack = pack_padded_sequence(x, s, batch_first=True, enforce_sorted=False)\n",
    "        out_pack, (ht, ct) = self.lstm(x_pack)\n",
    "        out = self.linear(ht[-1])\n",
    "        return out"
   ],
   "metadata": {
    "collapsed": false,
    "pycharm": {
     "name": "#%%\n"
    }
   }
  },
  {
   "cell_type": "code",
   "execution_count": 32,
   "outputs": [
    {
     "data": {
      "text/plain": "array([0.0085885])"
     },
     "execution_count": 32,
     "metadata": {},
     "output_type": "execute_result"
    }
   ],
   "source": [
    "parameters = filter(lambda p: p.requires_grad, model.parameters())\n",
    "optimizer = torch.optim.Adam(parameters, lr=lr)\n",
    "for i in range(epochs):\n",
    "    model.train()\n",
    "    sum_loss = 0.0\n",
    "    total = 0\n",
    "    for x, y, l in train_dl:\n",
    "        x = x.long()\n",
    "        y = y.long()\n",
    "        y_pred = model(x, l)\n",
    "        optimizer.zero_grad()\n",
    "        loss = F.cross_entropy(y_pred, y)\n",
    "        loss.backward()\n",
    "        optimizer.step()\n",
    "        sum_loss += loss.item()*y.shape[0]\n",
    "        total += y.shape[0]\n",
    "    val_loss, val_acc, val_rmse = validation_metrics(model, val_dl)\n",
    "    if i % 5 == 1:\n",
    "        print(\"train loss %.3f, val loss %.3f, val accuracy %.3f, and val rmse %.3f\" % (sum_loss/total, val_loss, val_acc, val_rmse))"
   ],
   "metadata": {
    "collapsed": false,
    "pycharm": {
     "name": "#%%\n"
    }
   }
  }
 ],
 "metadata": {
  "kernelspec": {
   "display_name": "Python 3",
   "language": "python",
   "name": "python3"
  },
  "language_info": {
   "codemirror_mode": {
    "name": "ipython",
    "version": 2
   },
   "file_extension": ".py",
   "mimetype": "text/x-python",
   "name": "python",
   "nbconvert_exporter": "python",
   "pygments_lexer": "ipython2",
   "version": "2.7.6"
  }
 },
 "nbformat": 4,
 "nbformat_minor": 0
}